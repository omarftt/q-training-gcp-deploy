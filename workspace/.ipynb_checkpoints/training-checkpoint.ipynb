{
 "cells": [
  {
   "cell_type": "code",
   "execution_count": 25,
   "id": "075e46c8-4f05-4cdd-85b4-89590abb48a8",
   "metadata": {
    "tags": []
   },
   "outputs": [],
   "source": [
    "import os, sys\n",
    "import json\n",
    "from datetime import datetime\n",
    "import google.cloud.aiplatform as aiplatform\n",
    "from typing import List\n",
    "from typing import NamedTuple\n",
    "import kfp\n",
    "from kfp.v2 import compiler, dsl\n",
    "from kfp.v2.dsl import (component, Input, Model, Output, Dataset, \n",
    "                        Artifact, OutputPath, ClassificationMetrics, \n",
    "                        Metrics, InputPath)\n"
   ]
  },
  {
   "cell_type": "code",
   "execution_count": 26,
   "id": "0727da07-20a0-44a7-85d7-5923e106d071",
   "metadata": {
    "tags": []
   },
   "outputs": [],
   "source": [
    "file_path = '../config.json'\n",
    "\n",
    "with open(file_path, 'r') as file:\n",
    "    config = json.load(file)"
   ]
  },
  {
   "cell_type": "code",
   "execution_count": 27,
   "id": "a137b2ae-55ef-4a5b-8f5d-48a80d20d54a",
   "metadata": {
    "tags": []
   },
   "outputs": [
    {
     "data": {
      "text/plain": [
       "{'PIPELINE_DISPLAY_NAME': 'Training pipeline',\n",
       " 'PIPELINE_DESCRIPTION': 'Logistic regression model trining pipeline',\n",
       " 'PIPELINE_PROJECT_ID': 'beaming-signal-428023-h8',\n",
       " 'LOCATION': 'us-central1',\n",
       " 'PIPELINE_PARAMS': {'DATA_SOURCE': 'storage',\n",
       "  'SOURCE_PROJECT': 'beaming-signal-428023-h8',\n",
       "  'SOURCE_DATASET': 'experimental_dataset',\n",
       "  'SOURCE_TABLE': 'loan_approval_table',\n",
       "  'SOURCE_BUCKET': 'experimental_training_bucket',\n",
       "  'DATAFILE_NAME': 'dataset.csv',\n",
       "  'TRAIN_PROJECT_ID': 'beaming-signal-428023-h8',\n",
       "  'MODEL_DISPLAY_NAME': 'BIGQUERY'},\n",
       " 'SERVICE_ACCOUNT': 'sa-experimental-training@beaming-signal-428023-h8.iam.gserviceaccount.com'}"
      ]
     },
     "execution_count": 27,
     "metadata": {},
     "output_type": "execute_result"
    }
   ],
   "source": [
    "config"
   ]
  },
  {
   "cell_type": "code",
   "execution_count": 3,
   "id": "8006cc4d-8998-4195-bb36-dd0248a5e7e9",
   "metadata": {
    "tags": []
   },
   "outputs": [],
   "source": [
    "PIPELINE_DISPLAY_NAME = config.get('PIPELINE_DISPLAY_NAME', 'my_pipeline')\n",
    "PIPELINE_DESCRIPTION = config.get('PIPELINE_DESCRIPTION', 'pipeline challenge')\n",
    "PIPELINE_PROJECT_ID = config.get('PIPELINE_PROJECT_ID', None)\n",
    "SERVICE_ACCOUNT = config.get('SERVICE_ACCOUNT', None)\n",
    "LOCATION = config.get('LOCATION', None)\n",
    "\n",
    "DATA_SOURCE = config.get('DATA_SOURCE', '')\n",
    "\n",
    "SOURCE_PROJECT = config.get('SOURCE_PROJECT', '')\n",
    "SOURCE_DATASET = config.get('SOURCE_DATASET', '')\n",
    "SOURCE_TABLE = config.get('SOURCE_TABLE', '')\n",
    "SOURCE_BUCKET = config.get('SOURCE_BUCKET', '')\n",
    "DATAFILE_NAME = config.get('DATAFILE_NAME', '')\n",
    "\n",
    "TRAIN_PROJECT_ID = config.get('TRAIN_PROJECT_ID', '')\n",
    "MODEL_DISPLAY_NAME = config.get('MODEL_DISPLAY_NAME', '')\n",
    "\n",
    "TEMPLATE_PATH = \"main_pipeline.json\""
   ]
  },
  {
   "cell_type": "code",
   "execution_count": 4,
   "id": "8cfb4883-6cfc-4361-8401-f261a46dac58",
   "metadata": {
    "tags": []
   },
   "outputs": [],
   "source": [
    "PIPELINE_PARAMS\n",
    "= {\"data_source\": DATA_SOURCE,\n",
    "                   \"source_project\": SOURCE_PROJECT,\n",
    "                   \"source_dataset\": SOURCE_DATASET,\n",
    "                   \"source_table\": SOURCE_TABLE,\n",
    "                   \"source_bucket\": SOURCE_BUCKET,\n",
    "                   \"datafile_name\": DATAFILE_NAME,\n",
    "                   \"train_project_id\": TRAIN_PROJECT_ID,\n",
    "                   \"model_display_name\": MODEL_DISPLAY_NAME}"
   ]
  },
  {
   "cell_type": "code",
   "execution_count": 14,
   "id": "f7f2efc4-3ca3-4c4f-9ae8-ddaaa83211cf",
   "metadata": {
    "tags": []
   },
   "outputs": [],
   "source": [
    "@component()\n",
    "def error_raising(msg: str) -> None:\n",
    "    raise(msg)"
   ]
  },
  {
   "cell_type": "code",
   "execution_count": 15,
   "id": "f99a0cb6-c3bc-410e-a3f9-ed774d87e3f6",
   "metadata": {
    "tags": []
   },
   "outputs": [],
   "source": [
    "@component(packages_to_install=['pandas', 'google-cloud-bigquery'])\n",
    "def load_from_bq(\n",
    "    project_id: str,\n",
    "    dataset_id: str,\n",
    "    table_id: str,\n",
    "    location: str,\n",
    "    df_data: Output[Dataset]\n",
    ") -> None:\n",
    "    \"\"\"\n",
    "    Load data from a specified BigQuery table and return a pandas DataFrame.\n",
    "    \n",
    "    Args:\n",
    "        project_id (str): The Google Cloud project ID.\n",
    "        dataset_id (str): The dataset ID within BigQuery.\n",
    "        table_id (str): The table ID within the dataset.\n",
    "        location (str): The location of the BigQuery dataset. Default is \"EU\".\n",
    "    \n",
    "    Returns:\n",
    "        pd.DataFrame: DataFrame containing the data from the BigQuery table.\n",
    "    \"\"\"\n",
    "    \n",
    "    from google.cloud import bigquery\n",
    "    \n",
    "    try:\n",
    "        # Initiate the BigQuery client to connect with the project.\n",
    "        bq_client = bigquery.Client(project=project_id, location=location)\n",
    "        \n",
    "        # Load data from the BigQuery table.\n",
    "        dataset_ref = bq_client.dataset(dataset_id, project=project_id)\n",
    "        table_ref = dataset_ref.table(table_id)\n",
    "        table = bq_client.get_table(table_ref)\n",
    "        rows = bq_client.list_rows(table)\n",
    "\n",
    "        # Convert to a pandas DataFrame.\n",
    "        df_loaded = rows.to_dataframe()\n",
    "\n",
    "        if not df_loaded.empty:\n",
    "            df_loaded.to_csv(df_data.path, index=False)\n",
    "        else:\n",
    "            raise ValueError(\"Table content is empty.\")\n",
    "    \n",
    "    except Exception as e:\n",
    "        print(f\"An error occurred during table load: {e}\")\n",
    "        raise"
   ]
  },
  {
   "cell_type": "code",
   "execution_count": 16,
   "id": "877a002a-7fcf-463c-92a5-8762b716d689",
   "metadata": {
    "tags": []
   },
   "outputs": [],
   "source": [
    "@component(packages_to_install=['pandas', 'google-cloud-storage'])\n",
    "def load_from_gcs(\n",
    "    bucket_name: str,\n",
    "    file_path: str,\n",
    "    df_data: Output[Dataset],\n",
    "    file_format: str = \"csv\",\n",
    ") -> None:\n",
    "    \n",
    "    \"\"\"\n",
    "    Load data from a specified GCS bucket and file, and return a pandas DataFrame.\n",
    "    \n",
    "    Args:\n",
    "        bucket_name (str): The name of the GCS bucket.\n",
    "        file_path (str): The path to the file within the GCS bucket.\n",
    "        file_format (str): The format of the file (e.g., \"csv\", \"json\"). Default is \"csv\".\n",
    "    \n",
    "    Returns:\n",
    "        pd.DataFrame: DataFrame containing the data from the file.\n",
    "    \"\"\"\n",
    "    \n",
    "    from google.cloud import storage\n",
    "    import pandas as pd\n",
    "    from io import BytesIO\n",
    "\n",
    "    try:\n",
    "        # Initialize the GCS client.\n",
    "        storage_client = storage.Client()\n",
    "\n",
    "        # Get the bucket and blob.\n",
    "        bucket = storage_client.bucket(bucket_name)\n",
    "        blob = bucket.blob(file_path)\n",
    "        file_bytes = blob.download_as_bytes()\n",
    "\n",
    "        # Load the file into a pandas DataFrame based on the specified format.\n",
    "        if file_format == \"csv\":\n",
    "            df_loaded = pd.read_csv(BytesIO(file_bytes))\n",
    "        else:\n",
    "            raise ValueError(\"Unsupported file format. Please use 'csv'.\")\n",
    "\n",
    "        if not df_loaded.empty:\n",
    "            df_loaded.to_csv(df_data.path, index=False)\n",
    "        else:\n",
    "            raise ValueError(\"Table content is empty.\")\n",
    "    except Exception as e:\n",
    "        print(f\"An error occurred during file load: {e}\")\n",
    "        raise"
   ]
  },
  {
   "cell_type": "code",
   "execution_count": 17,
   "id": "23bfa20f-a9be-429d-b796-de887687dca1",
   "metadata": {
    "tags": []
   },
   "outputs": [],
   "source": [
    "@component(packages_to_install=['pandas', 'scikit-learn'])\n",
    "def preprocess_data(\n",
    "    df_data: Input[Dataset],\n",
    "    train_data: Output[Dataset],\n",
    ") -> None:\n",
    "    \"\"\"\n",
    "    Preprocess the input DataFrame by handling null values in the specified columns.\n",
    "\n",
    "    Args:\n",
    "        df_data (pd.DataFrame): Input DataFrame with potential null values.\n",
    "\n",
    "    Returns:\n",
    "        pd.DataFrame: DataFrame preprocessed.\n",
    "    \"\"\"\n",
    "    \n",
    "    from sklearn.impute import SimpleImputer\n",
    "    import pandas as pd\n",
    "\n",
    "    try:\n",
    "        # Create a copy of the DataFrame to avoid modifying the original\n",
    "        df_imputed = pd.read_csv(df_data.path)\n",
    "        \n",
    "        # Preprocess the data\n",
    "        columns_to_impute = ['Age', 'Annual_Income', 'Credit_Score', 'Loan_Amount', 'Number_of_Open_Accounts']\n",
    "        imputer = SimpleImputer(fill_value=0)\n",
    "        df_imputed[columns_to_impute] = imputer.fit_transform(df[columns_to_impute])\n",
    "\n",
    "        if not df_imputed.empty:\n",
    "            df_imputed.to_csv(train_data.path, index=False)\n",
    "        else:\n",
    "            raise ValueError(\"Table content is empty.\")\n",
    "\n",
    "    except Exception as e:\n",
    "        print(f\"An error occurred during preprocessing: {e}\")\n",
    "        raise  "
   ]
  },
  {
   "cell_type": "code",
   "execution_count": 18,
   "id": "a1067d27-9aaa-457e-836a-e4892943d67d",
   "metadata": {
    "tags": []
   },
   "outputs": [],
   "source": [
    "@component(packages_to_install=['pandas', 'scikit-learn', 'google-cloud-aiplatform'])\n",
    "def train_and_save_model(\n",
    "    project_id: str, \n",
    "    region: str, \n",
    "    model_display_name: str,\n",
    "    train_data: Input[Dataset]\n",
    ") -> None:\n",
    "    \"\"\"\n",
    "    Train a Logistic Regression model and save it to the Vertex AI Model Registry and Google Cloud Storage.\n",
    "\n",
    "    Args:\n",
    "        df (pd.DataFrame): Input DataFrame for training.\n",
    "        project_id (str): Google Cloud project ID.\n",
    "        region (str): Region for Vertex AI.\n",
    "        model_display_name (str): Display name for the model in Vertex AI.\n",
    "\n",
    "    Returns:\n",
    "        None\n",
    "    \"\"\"\n",
    "    \n",
    "    from sklearn.model_selection import train_test_split\n",
    "    from sklearn.linear_model import LogisticRegression\n",
    "    from google.cloud import aiplatform\n",
    "    import pandas as pd\n",
    "    import joblib\n",
    "    import os\n",
    "\n",
    "    try:\n",
    "        \n",
    "        df = pd.read_csv(df_data.path)\n",
    "        \n",
    "        # Splitting the data into features and target\n",
    "        X = df.drop('Loan_Approval', axis=1)\n",
    "        y = df['Loan_Approval']\n",
    "\n",
    "        # Splitting the data into training and test sets\n",
    "        X_train, X_test, y_train, y_test = train_test_split(X, y, test_size=0.01, random_state=42)\n",
    "\n",
    "        # Training the Logistic Regression model\n",
    "        model = LogisticRegression()\n",
    "        model.fit(X_train, y_train)\n",
    "\n",
    "        # Predictions\n",
    "        y_pred = model.predict(X_test)\n",
    "        print(y_pred)\n",
    "\n",
    "        # Save the model to a local file\n",
    "        model_filename = 'model.joblib'\n",
    "        joblib.dump(model, model_filename)\n",
    "\n",
    "        # Initialize the Vertex AI client\n",
    "        aiplatform.init(project=project_id, location=region)\n",
    "\n",
    "        # Upload the model to Vertex AI Model Registry\n",
    "        aiplatform.Model.upload(\n",
    "            display_name=model_display_name,\n",
    "            artifact_uri=f'gs://{project_id}/{model_filename}',  # GCS bucket URI for Vertex AI Model Registry\n",
    "            serving_container_image_uri='us-docker.pkg.dev/vertex-ai/prediction/sklearn-cpu.0-23:latest'\n",
    "        )\n",
    "\n",
    "        print(f\"Model {model_display_name} successfully uploaded to Vertex AI Model Registry.\")\n",
    "\n",
    "        # Upload the model file to Google Cloud Storage\n",
    "        storage_client = storage.Client()\n",
    "        bucket = storage_client.bucket(project_id)\n",
    "        blob = bucket.blob(model_filename)\n",
    "        blob.upload_from_filename(model_filename)\n",
    "\n",
    "        print(f\"Model {model_filename} uploaded to Google Cloud Storage.\")\n",
    "\n",
    "    except Exception as e:\n",
    "        print(f\"An error occurred during model training, upload to Vertex AI, or upload to Cloud Storage: {e}\")\n",
    "        raise  # Re-raise the exception to stop the pipeline"
   ]
  },
  {
   "cell_type": "code",
   "execution_count": 21,
   "id": "41e21b55-5e30-426a-975a-7e2c16ef97f0",
   "metadata": {
    "tags": []
   },
   "outputs": [],
   "source": [
    "@dsl.pipeline(\n",
    "    name=PIPELINE_DISPLAY_NAME, \n",
    "    description=PIPELINE_DESCRIPTION\n",
    ")\n",
    "\n",
    "def main_pipeline(\n",
    "    data_source: str,\n",
    "    source_project: str,\n",
    "    source_dataset: str,\n",
    "    source_table: str,\n",
    "    source_bucket: str,\n",
    "    datafile_name: str,\n",
    "    train_project_id: str,\n",
    "    model_display_name: str,\n",
    "    gcp_region: str = \"us-central1\",\n",
    "):\n",
    "    \n",
    "    with dsl.If(data_source == 'bigquery'):\n",
    "        load_data_op = load_from_bq(\n",
    "                                    project_id=source_project,\n",
    "                                    dataset_id=source_dataset,\n",
    "                                    table_id=source_table,\n",
    "                                    location=gcp_region,\n",
    "                                    ).set_display_name(\"Load data from BQ\")\n",
    "        preprocess_data_op = preprocess_data(\n",
    "                                        df_data=load_data_op.outputs['df_data']\n",
    "                                        ).after(load_data_op).set_display_name(\"Preprocessing data\")\n",
    "    \n",
    "        train_save_op = train_and_save_model(\n",
    "                                        project_id=train_project_id, \n",
    "                                        region=gcp_region, \n",
    "                                        model_display_name=model_display_name,\n",
    "                                        train_data=preprocess_data_op.outputs['train_data'], \n",
    "                                        ).after(preprocess_data_op).set_display_name(\"Training and saving model\")\n",
    "    with dsl.Elif(data_source == 'storage'):\n",
    "        load_data_op = load_from_gcs(\n",
    "                                    bucket_name=source_bucket,\n",
    "                                    file_path=datafile_name,\n",
    "                                    file_format='csv'\n",
    "                                    ).set_display_name(\"Load data from GCS\")\n",
    "        \n",
    "        preprocess_data_op = preprocess_data(\n",
    "                                        df_data=load_data_op.outputs['df_data']\n",
    "                                        ).after(load_data_op).set_display_name(\"Preprocessing data\")\n",
    "    \n",
    "        train_save_op = train_and_save_model(\n",
    "                                        project_id=train_project_id, \n",
    "                                        region=gcp_region, \n",
    "                                        model_display_name=model_display_name,\n",
    "                                        train_data=preprocess_data_op.outputs['train_data'], \n",
    "                                        ).after(preprocess_data_op).set_display_name(\"Training and saving model\")\n",
    "    with dsl.Else():\n",
    "        error_raising(msg=\"No se logro validar la fuente de datos\")\n",
    "    \n"
   ]
  },
  {
   "cell_type": "code",
   "execution_count": 22,
   "id": "69500279-8cb4-4a6b-942f-247e3b6fe871",
   "metadata": {
    "tags": []
   },
   "outputs": [],
   "source": [
    "compiler.Compiler().compile(\n",
    "    pipeline_func=main_pipeline,\n",
    "    package_path=TEMPLATE_PATH)"
   ]
  },
  {
   "cell_type": "code",
   "execution_count": 23,
   "id": "4364e198-609c-4db2-aa40-f4f50cd4ad77",
   "metadata": {
    "tags": []
   },
   "outputs": [],
   "source": [
    "aiplatform.init(project=PIPELINE_PROJECT_ID, location=LOCATION)"
   ]
  },
  {
   "cell_type": "code",
   "execution_count": 24,
   "id": "c5c82ad5-a4d5-40ee-b382-ca471b909525",
   "metadata": {
    "tags": []
   },
   "outputs": [
    {
     "name": "stdout",
     "output_type": "stream",
     "text": [
      "Creating PipelineJob\n",
      "PipelineJob created. Resource name: projects/917392811214/locations/us-central1/pipelineJobs/training-pipeline-20240701065022\n",
      "To use this PipelineJob in another session:\n",
      "pipeline_job = aiplatform.PipelineJob.get('projects/917392811214/locations/us-central1/pipelineJobs/training-pipeline-20240701065022')\n",
      "View Pipeline Job:\n",
      "https://console.cloud.google.com/vertex-ai/locations/us-central1/pipelines/runs/training-pipeline-20240701065022?project=917392811214\n"
     ]
    }
   ],
   "source": [
    "pipeline_ = aiplatform.pipeline_jobs.PipelineJob(\n",
    "    enable_caching=False,\n",
    "    display_name=PIPELINE_DISPLAY_NAME,\n",
    "    template_path=TEMPLATE_PATH,\n",
    "    parameter_values=PIPELINE_PARAMS)\n",
    "\n",
    "pipeline_.submit(service_account=SERVICE_ACCOUNT)"
   ]
  },
  {
   "cell_type": "code",
   "execution_count": null,
   "id": "f49b7403-6c47-41ee-b087-e673537e95ac",
   "metadata": {},
   "outputs": [],
   "source": []
  }
 ],
 "metadata": {
  "kernelspec": {
   "display_name": "Python (Local)",
   "language": "python",
   "name": "base"
  },
  "language_info": {
   "codemirror_mode": {
    "name": "ipython",
    "version": 3
   },
   "file_extension": ".py",
   "mimetype": "text/x-python",
   "name": "python",
   "nbconvert_exporter": "python",
   "pygments_lexer": "ipython3",
   "version": "3.10.14"
  }
 },
 "nbformat": 4,
 "nbformat_minor": 5
}
